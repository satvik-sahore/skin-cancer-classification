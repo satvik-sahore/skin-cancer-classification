{
 "cells": [
  {
   "cell_type": "code",
   "execution_count": 14,
   "metadata": {},
   "outputs": [
    {
     "name": "stderr",
     "output_type": "stream",
     "text": [
      "Using TensorFlow backend.\n"
     ]
    },
    {
     "name": "stdout",
     "output_type": "stream",
     "text": [
      "WARNING:tensorflow:From C:\\Users\\Aiden\\AppData\\Roaming\\Python\\Python37\\site-packages\\tensorflow\\python\\framework\\op_def_library.py:263: colocate_with (from tensorflow.python.framework.ops) is deprecated and will be removed in a future version.\n",
      "Instructions for updating:\n",
      "Colocations handled automatically by placer.\n",
      "WARNING:tensorflow:From C:\\Users\\Aiden\\Anaconda3\\lib\\site-packages\\keras\\backend\\tensorflow_backend.py:3445: calling dropout (from tensorflow.python.ops.nn_ops) with keep_prob is deprecated and will be removed in a future version.\n",
      "Instructions for updating:\n",
      "Please use `rate` instead of `keep_prob`. Rate should be set to `rate = 1 - keep_prob`.\n",
      "Loaded model from disk\n"
     ]
    }
   ],
   "source": [
    "from keras.models import model_from_json\n",
    "from keras.optimizers import SGD\n",
    "\n",
    "json_file = open('Binary_Code.json', 'r')\n",
    "loaded_model_json = json_file.read()\n",
    "json_file.close()\n",
    "loaded_model = model_from_json(loaded_model_json)\n",
    "# load weights into new model\n",
    "loaded_model.load_weights(\"saved_best_model.hdf5\")\n",
    "#loaded_model.load_weights(\"Binary_Code_model_weights.hdf5\")\n",
    "print(\"Loaded model from disk\")\n",
    "\n",
    "\n",
    "# Evaluate loaded model on test data\n",
    "loaded_model.compile(loss='binary_crossentropy', optimizer='adam', metrics=['accuracy'])"
   ]
  },
  {
   "cell_type": "code",
   "execution_count": 15,
   "metadata": {},
   "outputs": [],
   "source": [
    "import cv2\n",
    "import numpy as np\n",
    "import glob, os\n",
    "import scipy.ndimage"
   ]
  },
  {
   "cell_type": "code",
   "execution_count": 17,
   "metadata": {},
   "outputs": [
    {
     "name": "stderr",
     "output_type": "stream",
     "text": [
      "C:\\Users\\Aiden\\Anaconda3\\lib\\site-packages\\ipykernel_launcher.py:15: DeprecationWarning: `imread` is deprecated!\n",
      "`imread` is deprecated in SciPy 1.0.0.\n",
      "Use ``matplotlib.pyplot.imread`` instead.\n",
      "  from ipykernel import kernelapp as app\n",
      "C:\\Users\\Aiden\\Anaconda3\\lib\\site-packages\\ipykernel_launcher.py:16: DeprecationWarning: `imresize` is deprecated!\n",
      "`imresize` is deprecated in SciPy 1.0.0, and will be removed in 1.2.0.\n",
      "Use ``skimage.transform.resize`` instead.\n",
      "  app.launch_new_instance()\n"
     ]
    },
    {
     "name": "stdout",
     "output_type": "stream",
     "text": [
      "Malignant\n",
      "Malignant\n",
      "Malignant\n",
      "Malignant\n",
      "Malignant\n",
      "Malignant\n"
     ]
    }
   ],
   "source": [
    "# Instead of cv2.imread use ndimage.imread\n",
    "from scipy import ndimage,misc\n",
    "m_test = []\n",
    "m_pred = []\n",
    "\n",
    "y_tests_cf = []\n",
    "y_preds_cf = []\n",
    "\n",
    "malignantImages = glob.glob(\"C:\\\\Users\\\\Aiden\\\\Documents\\\\My Documents\\\\Study Material\\\\Internship\\\\CancerSegmentation\\\\SkinCancer\\\\ImagesMalignant\\\\ISIC_*.jpg\")\n",
    "\n",
    "\n",
    "#once the model is trained to test a new image\n",
    "for malignantImage in malignantImages:\n",
    "    categories=['Benignant','Malignant']\n",
    "    images_to_predict = ndimage.imread(malignantImage)\n",
    "    images_to_predict= misc.imresize(images_to_predict, (112,150))\n",
    "    images_to_predict=np.array(images_to_predict).reshape(-1,112,150,3)/255\n",
    "    print(categories[loaded_model.predict_classes(images_to_predict)[0][0]])\n",
    "    m_test.append(1)\n",
    "    y_tests_cf.append(1)\n",
    "    m_pred.append(loaded_model.predict_classes(images_to_predict)[0][0])\n",
    "    y_preds_cf.append(loaded_model.predict_classes(images_to_predict)[0][0])"
   ]
  },
  {
   "cell_type": "code",
   "execution_count": 18,
   "metadata": {},
   "outputs": [
    {
     "data": {
      "text/plain": [
       "6"
      ]
     },
     "execution_count": 18,
     "metadata": {},
     "output_type": "execute_result"
    }
   ],
   "source": [
    "len(malignantImages)"
   ]
  },
  {
   "cell_type": "code",
   "execution_count": 19,
   "metadata": {},
   "outputs": [
    {
     "ename": "ValueError",
     "evalue": "not enough values to unpack (expected 4, got 1)",
     "output_type": "error",
     "traceback": [
      "\u001b[1;31m---------------------------------------------------------------------------\u001b[0m",
      "\u001b[1;31mValueError\u001b[0m                                Traceback (most recent call last)",
      "\u001b[1;32m<ipython-input-19-e0d9c0a1ba62>\u001b[0m in \u001b[0;36m<module>\u001b[1;34m\u001b[0m\n\u001b[0;32m      1\u001b[0m \u001b[1;32mfrom\u001b[0m \u001b[0msklearn\u001b[0m\u001b[1;33m.\u001b[0m\u001b[0mmetrics\u001b[0m \u001b[1;32mimport\u001b[0m \u001b[0mconfusion_matrix\u001b[0m\u001b[1;33m\u001b[0m\u001b[1;33m\u001b[0m\u001b[0m\n\u001b[0;32m      2\u001b[0m \u001b[1;33m\u001b[0m\u001b[0m\n\u001b[1;32m----> 3\u001b[1;33m \u001b[0mtn\u001b[0m\u001b[1;33m,\u001b[0m \u001b[0mfp\u001b[0m\u001b[1;33m,\u001b[0m \u001b[0mfn\u001b[0m\u001b[1;33m,\u001b[0m \u001b[0mtp\u001b[0m \u001b[1;33m=\u001b[0m \u001b[0mconfusion_matrix\u001b[0m\u001b[1;33m(\u001b[0m\u001b[0mm_test\u001b[0m\u001b[1;33m,\u001b[0m \u001b[0mm_pred\u001b[0m\u001b[1;33m)\u001b[0m\u001b[1;33m.\u001b[0m\u001b[0mravel\u001b[0m\u001b[1;33m(\u001b[0m\u001b[1;33m)\u001b[0m\u001b[1;33m\u001b[0m\u001b[1;33m\u001b[0m\u001b[0m\n\u001b[0m\u001b[0;32m      4\u001b[0m \u001b[1;33m\u001b[0m\u001b[0m\n\u001b[0;32m      5\u001b[0m \u001b[0mprint\u001b[0m\u001b[1;33m(\u001b[0m\u001b[1;34m\"True Negatives: %s\"\u001b[0m \u001b[1;33m%\u001b[0m \u001b[0mtn\u001b[0m\u001b[1;33m)\u001b[0m\u001b[1;33m\u001b[0m\u001b[1;33m\u001b[0m\u001b[0m\n",
      "\u001b[1;31mValueError\u001b[0m: not enough values to unpack (expected 4, got 1)"
     ]
    }
   ],
   "source": [
    "from sklearn.metrics import confusion_matrix\n",
    "\n",
    "tn, fp, fn, tp = confusion_matrix(m_test, m_pred).ravel()\n",
    "\n",
    "print(\"True Negatives: %s\" % tn)\n",
    "print(\"False Positives: %s\" % fp)\n",
    "print(\"False Negatives: %s\" % fn)\n",
    "print(\"True Positives: %s\" % tp)"
   ]
  },
  {
   "cell_type": "code",
   "execution_count": 20,
   "metadata": {},
   "outputs": [
    {
     "name": "stderr",
     "output_type": "stream",
     "text": [
      "C:\\Users\\Aiden\\Anaconda3\\lib\\site-packages\\ipykernel_launcher.py:9: DeprecationWarning: `imread` is deprecated!\n",
      "`imread` is deprecated in SciPy 1.0.0.\n",
      "Use ``matplotlib.pyplot.imread`` instead.\n",
      "  if __name__ == '__main__':\n",
      "C:\\Users\\Aiden\\Anaconda3\\lib\\site-packages\\ipykernel_launcher.py:10: DeprecationWarning: `imresize` is deprecated!\n",
      "`imresize` is deprecated in SciPy 1.0.0, and will be removed in 1.2.0.\n",
      "Use ``skimage.transform.resize`` instead.\n",
      "  # Remove the CWD from sys.path while we load stuff.\n"
     ]
    },
    {
     "name": "stdout",
     "output_type": "stream",
     "text": [
      "Malignant\n",
      "Malignant\n",
      "Malignant\n",
      "Malignant\n",
      "Malignant\n",
      "Malignant\n"
     ]
    }
   ],
   "source": [
    "b_test = []\n",
    "b_pred = []\n",
    "\n",
    "benignantImages = glob.glob(\"C:\\\\Users\\\\Aiden\\\\Documents\\\\My Documents\\\\Study Material\\\\Internship\\\\CancerSegmentation\\\\SkinCancer\\\\ImagesBenign\\\\ISIC_*.jpg\")\n",
    "\n",
    "#once the model is trained to test a new image\n",
    "for benignImage in benignantImages:\n",
    "    categories=['Benignant','Malignant']\n",
    "    images_to_predict = ndimage.imread(benignImage)\n",
    "    images_to_predict= misc.imresize(images_to_predict, (112,150))\n",
    "    images_to_predict=np.array(images_to_predict).reshape(-1,112,150,3)/255\n",
    "    #print(\"File: \", os.path.basename(benignImage), \", Category: \", categories[loaded_model.predict_classes(images_to_predict)[0][0]], \", Probability: \", loaded_model.predict_proba(images_to_predict)[0][0])\n",
    "    print(categories[loaded_model.predict_classes(images_to_predict)[0][0]])\n",
    "    b_test.append(0)\n",
    "    y_tests_cf.append(0)\n",
    "    b_pred.append(loaded_model.predict_classes(images_to_predict)[0][0])  \n",
    "    y_preds_cf.append(loaded_model.predict_classes(images_to_predict)[0][0])  "
   ]
  },
  {
   "cell_type": "code",
   "execution_count": null,
   "metadata": {},
   "outputs": [],
   "source": [
    "len(benignantImages)"
   ]
  },
  {
   "cell_type": "code",
   "execution_count": 21,
   "metadata": {},
   "outputs": [
    {
     "name": "stdout",
     "output_type": "stream",
     "text": [
      "True Negatives: 0\n",
      "False Positives: 6\n",
      "False Negatives: 0\n",
      "True Positives: 0\n"
     ]
    }
   ],
   "source": [
    "from sklearn.metrics import confusion_matrix\n",
    "\n",
    "tn, fp, fn, tp = confusion_matrix(b_test, b_pred).ravel()\n",
    "\n",
    "print(\"True Negatives: %s\" % tn)\n",
    "print(\"False Positives: %s\" % fp)\n",
    "print(\"False Negatives: %s\" % fn)\n",
    "print(\"True Positives: %s\" % tp)"
   ]
  },
  {
   "cell_type": "markdown",
   "metadata": {},
   "source": [
    "# Overall Confusion Matrix"
   ]
  },
  {
   "cell_type": "code",
   "execution_count": 22,
   "metadata": {},
   "outputs": [
    {
     "name": "stdout",
     "output_type": "stream",
     "text": [
      "True Negatives: 0\n",
      "False Positives: 6\n",
      "False Negatives: 0\n",
      "True Positives: 6\n"
     ]
    }
   ],
   "source": [
    "tn, fp, fn, tp = confusion_matrix(y_tests_cf, y_preds_cf).ravel()\n",
    "\n",
    "print(\"True Negatives: %s\" % tn)\n",
    "print(\"False Positives: %s\" % fp)\n",
    "print(\"False Negatives: %s\" % fn)\n",
    "print(\"True Positives: %s\" % tp)"
   ]
  },
  {
   "cell_type": "code",
   "execution_count": 23,
   "metadata": {},
   "outputs": [],
   "source": [
    "#Takes name of image returns category and probability of the category\n",
    "def pred(Image):\n",
    "    categories = ['Benignant','Malignant']\n",
    "    image=cv2.imread(Image)\n",
    "    image=cv2.resize(image, (112,150))\n",
    "    img = np.array(image).reshape(-1,112,150,3)/255\n",
    "    #pred = loaded_model.predict(img)[0]\n",
    "    #top = np.argsort(proba)[-1]\n",
    "    #category = categories[top]\n",
    "    #proba = pred[top]\n",
    "    category=categories[loaded_model.predict_classes(img)[0][0]]\n",
    "    proba=loaded_model.predict_proba(img)[0][0]\n",
    "    return [category,proba]\n",
    "\n",
    "def compare(Image1,Image2):\n",
    "    img_pred1=pred(Image1)\n",
    "    print((img_pred1))\n",
    "    img_pred2=pred(Image2)\n",
    "    print((img_pred2))\n",
    "    if(img_pred1[0]=='Malignant'):\n",
    "        if(img_pred1[1] > img_pred2[1]):\n",
    "            #Improve\n",
    "            return ((img_pred1[1]-img_pred2[1]), 0, 0)\n",
    "        elif(img_pred1[1] ==img_pred2[1]):\n",
    "            #Same\n",
    "            return (0,1,0)\n",
    "        elif(img_pred1[1] < img_pred2[1]):\n",
    "            #Worse\n",
    "            return (0, 0, (img_pred2[1]-img_pred1[1]))\n",
    "    if(img_pred1[0]=='Benignant'):\n",
    "        if(img_pred1[1] < img_pred2[1]):\n",
    "            #Improve\n",
    "            return ((img_pred1[1]-img_pred2[1]), 0, 0)\n",
    "        elif(img_pred1[1] ==img_pred2[1]):\n",
    "            #Same\n",
    "            return (0,1,0)\n",
    "        elif(img_pred1[1] > img_pred2[1]):\n",
    "            #Worse\n",
    "            return (0, 0, (img_pred2[1]-img_pred1[1]))"
   ]
  },
  {
   "cell_type": "code",
   "execution_count": 28,
   "metadata": {},
   "outputs": [
    {
     "name": "stdout",
     "output_type": "stream",
     "text": [
      "['Malignant', 0.97345126]\n",
      "['Malignant', 0.6408044]\n",
      "(0.33264685, 0, 0)\n"
     ]
    }
   ],
   "source": [
    "#copy these two files in folder where this notebook is saved  \n",
    "op=compare(\"ISIC_00000.jpg\",\"ISIC_00002.jpg\")\n",
    "print(op)"
   ]
  },
  {
   "cell_type": "code",
   "execution_count": null,
   "metadata": {},
   "outputs": [],
   "source": []
  },
  {
   "cell_type": "code",
   "execution_count": null,
   "metadata": {},
   "outputs": [],
   "source": []
  }
 ],
 "metadata": {
  "kernelspec": {
   "display_name": "Python 3",
   "language": "python",
   "name": "python3"
  },
  "language_info": {
   "codemirror_mode": {
    "name": "ipython",
    "version": 3
   },
   "file_extension": ".py",
   "mimetype": "text/x-python",
   "name": "python",
   "nbconvert_exporter": "python",
   "pygments_lexer": "ipython3",
   "version": "3.7.1"
  }
 },
 "nbformat": 4,
 "nbformat_minor": 2
}
