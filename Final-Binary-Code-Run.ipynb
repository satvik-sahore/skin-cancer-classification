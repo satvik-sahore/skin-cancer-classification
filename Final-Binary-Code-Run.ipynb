{
 "cells": [
  {
   "cell_type": "code",
   "execution_count": 1,
   "metadata": {},
   "outputs": [
    {
     "name": "stderr",
     "output_type": "stream",
     "text": [
      "Using TensorFlow backend.\n"
     ]
    },
    {
     "name": "stdout",
     "output_type": "stream",
     "text": [
      "Loaded model from disk\n"
     ]
    }
   ],
   "source": [
    "from keras.models import model_from_json\n",
    "from keras.optimizers import SGD\n",
    "\n",
    "json_file = open('Binary_Code.json', 'r')\n",
    "loaded_model_json = json_file.read()\n",
    "json_file.close()\n",
    "loaded_model = model_from_json(loaded_model_json)\n",
    "# load weights into new model\n",
    "loaded_model.load_weights(\"saved_best_model.hdf5\")\n",
    "#loaded_model.load_weights(\"Binary_Code_model_weights.hdf5\")\n",
    "print(\"Loaded model from disk\")\n",
    "\n",
    "\n",
    "# Evaluate loaded model on test data\n",
    "loaded_model.compile(loss='binary_crossentropy', optimizer='adam', metrics=['accuracy'])"
   ]
  },
  {
   "cell_type": "code",
   "execution_count": 2,
   "metadata": {},
   "outputs": [],
   "source": [
    "import cv2\n",
    "import numpy as np\n",
    "import glob, os"
   ]
  },
  {
   "cell_type": "code",
   "execution_count": 3,
   "metadata": {},
   "outputs": [
    {
     "name": "stdout",
     "output_type": "stream",
     "text": [
      "Benignant\n",
      "Benignant\n",
      "Benignant\n",
      "Malignant\n",
      "Malignant\n",
      "Malignant\n",
      "Malignant\n",
      "Malignant\n",
      "Malignant\n",
      "Malignant\n",
      "Benignant\n",
      "Malignant\n",
      "Malignant\n",
      "Malignant\n",
      "Malignant\n",
      "Malignant\n",
      "Benignant\n",
      "Benignant\n",
      "Malignant\n",
      "Malignant\n",
      "Malignant\n",
      "Malignant\n",
      "Malignant\n",
      "Benignant\n",
      "Malignant\n",
      "Malignant\n",
      "Malignant\n",
      "Malignant\n",
      "Malignant\n",
      "Malignant\n",
      "Benignant\n",
      "Malignant\n",
      "Malignant\n",
      "Benignant\n",
      "Benignant\n",
      "Malignant\n",
      "Benignant\n",
      "Benignant\n",
      "Benignant\n",
      "Malignant\n",
      "Benignant\n",
      "Malignant\n",
      "Malignant\n",
      "Benignant\n",
      "Malignant\n",
      "Malignant\n",
      "Benignant\n",
      "Malignant\n",
      "Malignant\n",
      "Benignant\n"
     ]
    }
   ],
   "source": [
    "# Instead of cv2.imread use ndimage.imread\n",
    "\n",
    "m_test = []\n",
    "m_pred = []\n",
    "\n",
    "y_tests_cf = []\n",
    "y_preds_cf = []\n",
    "\n",
    "malignantImages = glob.glob('C:\\\\Users\\\\Dev\\\\VInventTechWork\\\\Biop.ai\\\\Feb2019\\\\FinalCode_27Feb\\\\ValidationImages\\\\ImagesMalignant\\\\ISIC_*.jpg')\n",
    "\n",
    "\n",
    "#once the model is trained to test a new image\n",
    "for malignantImage in malignantImages:\n",
    "    categories=['Benignant','Malignant']\n",
    "    images_to_predict = cv2.imread(malignantImage)\n",
    "    images_to_predict= cv2.resize(images_to_predict, (112,150))\n",
    "    images_to_predict=np.array(images_to_predict).reshape(-1,112,150,3)/255\n",
    "    print(categories[loaded_model.predict_classes(images_to_predict)[0][0]])\n",
    "    m_test.append(1)\n",
    "    y_tests_cf.append(1)\n",
    "    m_pred.append(loaded_model.predict_classes(images_to_predict)[0][0])\n",
    "    y_preds_cf.append(loaded_model.predict_classes(images_to_predict)[0][0])"
   ]
  },
  {
   "cell_type": "code",
   "execution_count": 4,
   "metadata": {},
   "outputs": [
    {
     "data": {
      "text/plain": [
       "50"
      ]
     },
     "execution_count": 4,
     "metadata": {},
     "output_type": "execute_result"
    }
   ],
   "source": [
    "len(malignantImages)"
   ]
  },
  {
   "cell_type": "code",
   "execution_count": 5,
   "metadata": {},
   "outputs": [
    {
     "name": "stdout",
     "output_type": "stream",
     "text": [
      "True Negatives: 0\n",
      "False Positives: 0\n",
      "False Negatives: 17\n",
      "True Positives: 33\n"
     ]
    }
   ],
   "source": [
    "from sklearn.metrics import confusion_matrix\n",
    "\n",
    "tn, fp, fn, tp = confusion_matrix(m_test, m_pred).ravel()\n",
    "\n",
    "print(\"True Negatives: %s\" % tn)\n",
    "print(\"False Positives: %s\" % fp)\n",
    "print(\"False Negatives: %s\" % fn)\n",
    "print(\"True Positives: %s\" % tp)"
   ]
  },
  {
   "cell_type": "code",
   "execution_count": 6,
   "metadata": {},
   "outputs": [
    {
     "name": "stdout",
     "output_type": "stream",
     "text": [
      "Malignant\n",
      "Benignant\n",
      "Malignant\n",
      "Malignant\n",
      "Benignant\n",
      "Malignant\n",
      "Malignant\n",
      "Malignant\n",
      "Benignant\n",
      "Benignant\n",
      "Malignant\n",
      "Malignant\n",
      "Benignant\n",
      "Benignant\n",
      "Benignant\n",
      "Benignant\n",
      "Malignant\n",
      "Benignant\n",
      "Malignant\n",
      "Benignant\n",
      "Malignant\n",
      "Malignant\n",
      "Malignant\n",
      "Benignant\n",
      "Malignant\n",
      "Malignant\n",
      "Benignant\n",
      "Malignant\n",
      "Malignant\n",
      "Benignant\n",
      "Malignant\n",
      "Malignant\n",
      "Benignant\n",
      "Benignant\n",
      "Benignant\n",
      "Benignant\n",
      "Malignant\n",
      "Malignant\n",
      "Malignant\n",
      "Malignant\n",
      "Benignant\n",
      "Malignant\n",
      "Malignant\n",
      "Malignant\n",
      "Malignant\n",
      "Malignant\n",
      "Benignant\n",
      "Malignant\n",
      "Malignant\n",
      "Benignant\n"
     ]
    }
   ],
   "source": [
    "b_test = []\n",
    "b_pred = []\n",
    "\n",
    "benignantImages = glob.glob('C:\\\\Users\\\\Dev\\\\VInventTechWork\\\\Biop.ai\\\\Feb2019\\\\FinalCode_27Feb\\\\ValidationImages\\\\ImagesBenign\\\\ISIC_*.jpg')\n",
    "\n",
    "#once the model is trained to test a new image\n",
    "for benignImage in benignantImages:\n",
    "    categories=['Benignant','Malignant']\n",
    "    images_to_predict = cv2.imread(benignImage)\n",
    "    images_to_predict= cv2.resize(images_to_predict, (112,150))\n",
    "    images_to_predict=np.array(images_to_predict).reshape(-1,112,150,3)/255\n",
    "    #print(\"File: \", os.path.basename(benignImage), \", Category: \", categories[loaded_model.predict_classes(images_to_predict)[0][0]], \", Probability: \", loaded_model.predict_proba(images_to_predict)[0][0])\n",
    "    print(categories[loaded_model.predict_classes(images_to_predict)[0][0]])\n",
    "    b_test.append(0)\n",
    "    y_tests_cf.append(0)\n",
    "    b_pred.append(loaded_model.predict_classes(images_to_predict)[0][0])  \n",
    "    y_preds_cf.append(loaded_model.predict_classes(images_to_predict)[0][0])  "
   ]
  },
  {
   "cell_type": "code",
   "execution_count": 7,
   "metadata": {},
   "outputs": [
    {
     "data": {
      "text/plain": [
       "50"
      ]
     },
     "execution_count": 7,
     "metadata": {},
     "output_type": "execute_result"
    }
   ],
   "source": [
    "len(benignantImages)"
   ]
  },
  {
   "cell_type": "code",
   "execution_count": 8,
   "metadata": {},
   "outputs": [
    {
     "name": "stdout",
     "output_type": "stream",
     "text": [
      "True Negatives: 20\n",
      "False Positives: 30\n",
      "False Negatives: 0\n",
      "True Positives: 0\n"
     ]
    }
   ],
   "source": [
    "from sklearn.metrics import confusion_matrix\n",
    "\n",
    "tn, fp, fn, tp = confusion_matrix(b_test, b_pred).ravel()\n",
    "\n",
    "print(\"True Negatives: %s\" % tn)\n",
    "print(\"False Positives: %s\" % fp)\n",
    "print(\"False Negatives: %s\" % fn)\n",
    "print(\"True Positives: %s\" % tp)"
   ]
  },
  {
   "cell_type": "markdown",
   "metadata": {},
   "source": [
    "# Overall Confusion Matrix"
   ]
  },
  {
   "cell_type": "code",
   "execution_count": 9,
   "metadata": {},
   "outputs": [
    {
     "name": "stdout",
     "output_type": "stream",
     "text": [
      "True Negatives: 20\n",
      "False Positives: 30\n",
      "False Negatives: 17\n",
      "True Positives: 33\n"
     ]
    }
   ],
   "source": [
    "tn, fp, fn, tp = confusion_matrix(y_tests_cf, y_preds_cf).ravel()\n",
    "\n",
    "print(\"True Negatives: %s\" % tn)\n",
    "print(\"False Positives: %s\" % fp)\n",
    "print(\"False Negatives: %s\" % fn)\n",
    "print(\"True Positives: %s\" % tp)"
   ]
  }
 ],
 "metadata": {
  "kernelspec": {
   "display_name": "Python 3",
   "language": "python",
   "name": "python3"
  },
  "language_info": {
   "codemirror_mode": {
    "name": "ipython",
    "version": 3
   },
   "file_extension": ".py",
   "mimetype": "text/x-python",
   "name": "python",
   "nbconvert_exporter": "python",
   "pygments_lexer": "ipython3",
   "version": "3.6.4"
  }
 },
 "nbformat": 4,
 "nbformat_minor": 2
}
